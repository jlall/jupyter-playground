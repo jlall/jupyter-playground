{
 "cells": [
  {
   "cell_type": "code",
   "execution_count": 1,
   "id": "headed-disclosure",
   "metadata": {},
   "outputs": [],
   "source": [
    "from newspaper import Article"
   ]
  },
  {
   "cell_type": "code",
   "execution_count": 19,
   "id": "written-interview",
   "metadata": {},
   "outputs": [],
   "source": [
    "url='https://www.mcconnell.senate.gov/public/index.cfm/pressreleases?ID=2ED4EA6B-4BEE-462C-BF1E-7972207B5F53' \n",
    "article = Article(url)"
   ]
  },
  {
   "cell_type": "code",
   "execution_count": 20,
   "id": "union-charlotte",
   "metadata": {},
   "outputs": [],
   "source": [
    "article.download()"
   ]
  },
  {
   "cell_type": "code",
   "execution_count": 21,
   "id": "great-opinion",
   "metadata": {},
   "outputs": [],
   "source": [
    "article.parse()"
   ]
  },
  {
   "cell_type": "code",
   "execution_count": 22,
   "id": "fleet-familiar",
   "metadata": {},
   "outputs": [
    {
     "data": {
      "text/plain": [
       "<newspaper.article.Article at 0x7fd8a56f5518>"
      ]
     },
     "execution_count": 22,
     "metadata": {},
     "output_type": "execute_result"
    }
   ],
   "source": [
    "article"
   ]
  },
  {
   "cell_type": "code",
   "execution_count": 23,
   "id": "german-impact",
   "metadata": {},
   "outputs": [],
   "source": [
    "article.nlp()"
   ]
  },
  {
   "cell_type": "code",
   "execution_count": 24,
   "id": "referenced-account",
   "metadata": {},
   "outputs": [
    {
     "data": {
      "text/plain": [
       "['trump',\n",
       " 'president',\n",
       " 'conviction',\n",
       " 'house',\n",
       " 'system',\n",
       " 'vice',\n",
       " 'disgraceful',\n",
       " 'defy',\n",
       " 'dereliction',\n",
       " 'guardrails',\n",
       " 'impeachment',\n",
       " 'lead',\n",
       " 'constitutional',\n",
       " 'senate',\n",
       " 'specific',\n",
       " 'mcconnell']"
      ]
     },
     "execution_count": 24,
     "metadata": {},
     "output_type": "execute_result"
    }
   ],
   "source": [
    "article.keywords"
   ]
  },
  {
   "cell_type": "code",
   "execution_count": null,
   "id": "prompt-vatican",
   "metadata": {},
   "outputs": [],
   "source": []
  }
 ],
 "metadata": {
  "kernelspec": {
   "display_name": "Python 3",
   "language": "python",
   "name": "python3"
  },
  "language_info": {
   "codemirror_mode": {
    "name": "ipython",
    "version": 3
   },
   "file_extension": ".py",
   "mimetype": "text/x-python",
   "name": "python",
   "nbconvert_exporter": "python",
   "pygments_lexer": "ipython3",
   "version": "3.6.9"
  }
 },
 "nbformat": 4,
 "nbformat_minor": 5
}
